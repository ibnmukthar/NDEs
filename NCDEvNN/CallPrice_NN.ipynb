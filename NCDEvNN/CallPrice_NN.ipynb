{
 "cells": [
  {
   "cell_type": "code",
   "execution_count": 14,
   "id": "1a231d9d",
   "metadata": {},
   "outputs": [
    {
     "name": "stdout",
     "output_type": "stream",
     "text": [
      "Epoch 1, Train Loss: 0.0167, Validation Loss: 0.0127\n",
      "Epoch 2, Train Loss: 0.0127, Validation Loss: 0.0092\n",
      "Epoch 3, Train Loss: 0.0092, Validation Loss: 0.0060\n",
      "Epoch 4, Train Loss: 0.0063, Validation Loss: 0.0035\n",
      "Epoch 5, Train Loss: 0.0039, Validation Loss: 0.0017\n",
      "Epoch 6, Train Loss: 0.0021, Validation Loss: 0.0006\n",
      "Epoch 7, Train Loss: 0.0009, Validation Loss: 0.0001\n",
      "Epoch 8, Train Loss: 0.0003, Validation Loss: 0.0000\n",
      "Epoch 9, Train Loss: 0.0001, Validation Loss: 0.0004\n",
      "Epoch 10, Train Loss: 0.0002, Validation Loss: 0.0009\n",
      "Epoch 11, Train Loss: 0.0006, Validation Loss: 0.0016\n",
      "Epoch 12, Train Loss: 0.0010, Validation Loss: 0.0021\n",
      "Epoch 13, Train Loss: 0.0013, Validation Loss: 0.0026\n",
      "Epoch 14, Train Loss: 0.0016, Validation Loss: 0.0029\n",
      "Epoch 15, Train Loss: 0.0017, Validation Loss: 0.0029\n",
      "Epoch 16, Train Loss: 0.0017, Validation Loss: 0.0028\n",
      "Epoch 17, Train Loss: 0.0016, Validation Loss: 0.0026\n",
      "Epoch 18, Train Loss: 0.0015, Validation Loss: 0.0022\n",
      "Epoch 19, Train Loss: 0.0013, Validation Loss: 0.0018\n",
      "Epoch 20, Train Loss: 0.0010, Validation Loss: 0.0014\n"
     ]
    }
   ],
   "source": [
    "import torch\n",
    "from torch.utils.data import DataLoader, TensorDataset, random_split\n",
    "from torch import nn, optim\n",
    "import torch.nn.functional as F\n",
    "\n",
    "# Load the data (assuming the data file path is 'Call_prices_59.pt')\n",
    "file_path = 'Call_prices_59.pt'\n",
    "data = torch.load(file_path)\n",
    "data_tensor = torch.from_numpy(data)\n",
    "\n",
    "# Splitting data into features and labels (assuming last column as label)\n",
    "features = data_tensor[:, :-1]\n",
    "labels = data_tensor[:, -1]\n",
    "\n",
    "# Splitting the dataset into training and validation sets (80-20 split)\n",
    "total_size = len(features)\n",
    "train_size = int(0.8 * total_size)\n",
    "val_size = total_size - train_size\n",
    "train_dataset, val_dataset = random_split(TensorDataset(features, labels), [train_size, val_size])\n",
    "\n",
    "# Neural Network Model Definition\n",
    "class SimpleNN(nn.Module):\n",
    "    def __init__(self, input_size):\n",
    "        super(SimpleNN, self).__init__()\n",
    "        self.fc1 = nn.Linear(input_size, 50)\n",
    "        self.fc2 = nn.Linear(50, 20)\n",
    "        self.fc3 = nn.Linear(20, 1)\n",
    "\n",
    "    def forward(self, x):\n",
    "        x = F.relu(self.fc1(x))\n",
    "        x = F.relu(self.fc2(x))\n",
    "        x = self.fc3(x)\n",
    "        return x\n",
    "\n",
    "# Initialize the neural network\n",
    "input_size = features.shape[1]\n",
    "model = SimpleNN(input_size)\n",
    "\n",
    "# Xavier normal initialization with gain of 1.5\n",
    "def init_weights(m):\n",
    "    if isinstance(m, nn.Linear):\n",
    "        nn.init.xavier_normal_(m.weight, gain=1.5)\n",
    "\n",
    "model.apply(init_weights)\n",
    "\n",
    "# Loss function and optimizer\n",
    "criterion = nn.MSELoss()\n",
    "optimizer = optim.Adam(model.parameters(), lr=0.001)\n",
    "\n",
    "# Training and Validation Functions\n",
    "def train_model(train_loader, model, criterion, optimizer):\n",
    "    model.train()\n",
    "    total_loss = 0\n",
    "    for batch in train_loader:\n",
    "        inputs, targets = batch\n",
    "        optimizer.zero_grad()\n",
    "        outputs = model(inputs.float())\n",
    "        loss = criterion(outputs, targets.unsqueeze(1).float())\n",
    "        loss.backward()\n",
    "        optimizer.step()\n",
    "        total_loss += loss.item() * inputs.size(0)\n",
    "    return total_loss / len(train_loader.dataset)\n",
    "\n",
    "def validate_model(val_loader, model, criterion):\n",
    "    model.eval()\n",
    "    total_loss = 0\n",
    "    with torch.no_grad():\n",
    "        for batch in val_loader:\n",
    "            inputs, targets = batch\n",
    "            outputs = model(inputs.float())\n",
    "            loss = criterion(outputs, targets.unsqueeze(1).float())\n",
    "            total_loss += loss.item() * inputs.size(0)\n",
    "    return total_loss / len(val_loader.dataset)\n",
    "\n",
    "# Adjusted batch size to 40,000\n",
    "batch_size = 40000\n",
    "train_loader = DataLoader(train_dataset, batch_size=batch_size, shuffle=True)\n",
    "val_loader = DataLoader(val_dataset, batch_size=batch_size, shuffle=False)\n",
    "\n",
    "# Training loop for 5 epochs\n",
    "for epoch in range(20):\n",
    "    train_loss = train_model(train_loader, model, criterion, optimizer)\n",
    "    val_loss = validate_model(val_loader, model, criterion)\n",
    "    print(f\"Epoch {epoch+1}, Train Loss: {train_loss:.4f}, Validation Loss: {val_loss:.4f}\")\n"
   ]
  },
  {
   "cell_type": "code",
   "execution_count": null,
   "id": "a590bcbd",
   "metadata": {},
   "outputs": [],
   "source": []
  }
 ],
 "metadata": {
  "hide_input": false,
  "kernelspec": {
   "display_name": "Python 3 (ipykernel)",
   "language": "python",
   "name": "python3"
  },
  "language_info": {
   "codemirror_mode": {
    "name": "ipython",
    "version": 3
   },
   "file_extension": ".py",
   "mimetype": "text/x-python",
   "name": "python",
   "nbconvert_exporter": "python",
   "pygments_lexer": "ipython3",
   "version": "3.9.7"
  },
  "toc": {
   "base_numbering": 1,
   "nav_menu": {},
   "number_sections": false,
   "sideBar": true,
   "skip_h1_title": false,
   "title_cell": "Table of Contents",
   "title_sidebar": "Contents",
   "toc_cell": false,
   "toc_position": {},
   "toc_section_display": true,
   "toc_window_display": false
  },
  "varInspector": {
   "cols": {
    "lenName": 16,
    "lenType": 16,
    "lenVar": 40
   },
   "kernels_config": {
    "python": {
     "delete_cmd_postfix": "",
     "delete_cmd_prefix": "del ",
     "library": "var_list.py",
     "varRefreshCmd": "print(var_dic_list())"
    },
    "r": {
     "delete_cmd_postfix": ") ",
     "delete_cmd_prefix": "rm(",
     "library": "var_list.r",
     "varRefreshCmd": "cat(var_dic_list()) "
    }
   },
   "types_to_exclude": [
    "module",
    "function",
    "builtin_function_or_method",
    "instance",
    "_Feature"
   ],
   "window_display": false
  }
 },
 "nbformat": 4,
 "nbformat_minor": 5
}
